{
 "cells": [
  {
   "cell_type": "markdown",
   "metadata": {},
   "source": [
    "## Analysis of Algorithms : Discuss with Insertion Sort"
   ]
  },
  {
   "cell_type": "markdown",
   "metadata": {},
   "source": [
    "To understand insertion sort, first will try to put one at the end to an alrady sorted list."
   ]
  },
  {
   "cell_type": "code",
   "execution_count": 58,
   "metadata": {
    "collapsed": false
   },
   "outputs": [
    {
     "name": "stdout",
     "output_type": "stream",
     "text": [
      "[2, 3, 4, 6, 8, 5, 9]\n",
      "[2, 3, 4, 6, 5, 8, 9]\n",
      "[2, 3, 4, 5, 6, 8, 9]\n"
     ]
    }
   ],
   "source": [
    "arr = [2,3,4,6,8,9,5]\n",
    "index = range(6,-1,-1)\n",
    "\n",
    "for i in index:\n",
    "    if(arr[i-1] > arr[i]):\n",
    "        key = arr[i]\n",
    "        arr[i] = arr[i-1]\n",
    "        arr[i-1] = key\n",
    "    else:\n",
    "        break\n",
    "    print (arr)"
   ]
  },
  {
   "cell_type": "markdown",
   "metadata": {},
   "source": [
    "Now will try to do this of a completely unordered list."
   ]
  },
  {
   "cell_type": "markdown",
   "metadata": {},
   "source": [
    "<img src = \"https://s3.amazonaws.com/ka-cs-algorithms/insertion_sort1.png\">"
   ]
  },
  {
   "cell_type": "code",
   "execution_count": 74,
   "metadata": {
    "collapsed": false
   },
   "outputs": [
    {
     "name": "stdout",
     "output_type": "stream",
     "text": [
      "[7, 10, 3, 13, 2, 8, 5, 5]\n",
      "[3, 7, 10, 13, 2, 8, 5, 5]\n",
      "[3, 7, 10, 13, 2, 8, 5, 5]\n",
      "[2, 3, 7, 10, 13, 8, 5, 5]\n",
      "[2, 3, 7, 8, 10, 13, 5, 5]\n",
      "[2, 3, 5, 7, 8, 10, 13, 5]\n",
      "[2, 3, 5, 5, 7, 8, 10, 13]\n"
     ]
    }
   ],
   "source": [
    "arr = [10,7,3,13,2,8,5,5]\n",
    "for j in range(1,8,1):\n",
    "    for i in range(j,0,-1):\n",
    "        if (arr[i-1] > arr[i]):\n",
    "            key = arr[i]\n",
    "            arr[i] = arr[i-1]\n",
    "            arr[i-1] = key\n",
    "        else:\n",
    "            break\n",
    "    print (arr)"
   ]
  },
  {
   "cell_type": "markdown",
   "metadata": {
    "collapsed": false
   },
   "source": [
    "### Now how do we analyse this algorithm ?"
   ]
  },
  {
   "cell_type": "code",
   "execution_count": null,
   "metadata": {
    "collapsed": true
   },
   "outputs": [],
   "source": []
  }
 ],
 "metadata": {
  "kernelspec": {
   "display_name": "Python 3",
   "language": "python",
   "name": "python3"
  },
  "language_info": {
   "codemirror_mode": {
    "name": "ipython",
    "version": 3
   },
   "file_extension": ".py",
   "mimetype": "text/x-python",
   "name": "python",
   "nbconvert_exporter": "python",
   "pygments_lexer": "ipython3",
   "version": "3.3.5"
  }
 },
 "nbformat": 4,
 "nbformat_minor": 0
}
