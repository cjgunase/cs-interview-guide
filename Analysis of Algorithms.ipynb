{
 "cells": [
  {
   "cell_type": "markdown",
   "metadata": {},
   "source": [
    "## Analysis of Algorithms : \n"
   ]
  },
  {
   "cell_type": "markdown",
   "metadata": {},
   "source": [
    "# Linear Search"
   ]
  },
  {
   "cell_type": "code",
   "execution_count": 113,
   "metadata": {
    "collapsed": false
   },
   "outputs": [
    {
     "name": "stdout",
     "output_type": "stream",
     "text": [
      "[1, 4, 8, 2, 6, 3, 0]\n",
      "found 4 at 1\n"
     ]
    }
   ],
   "source": [
    "import random\n",
    "arr = random.sample(range(10), 7)\n",
    "#arr = [8, 0, 5, 1, 6, 9, 4]\n",
    "print (arr)\n",
    "find = 4\n",
    "for i in range(1,len(arr),1):\n",
    "    if (arr[i] == find):\n",
    "        print (\"found %d at %d\" %(find,i))\n",
    "        break\n",
    "    else:\n",
    "        if (i == len(arr)-1 and arr[i] != find):\n",
    "            print (\"did not find %d\" %find)\n",
    "        "
   ]
  },
  {
   "cell_type": "markdown",
   "metadata": {},
   "source": [
    "Complexity of the Linear search:\n",
    "\n",
    "worst case : $\\theta$(n)\n",
    "\n",
    "http://www.geeksforgeeks.org/analysis-of-algorithms-set-2-asymptotic-analysis/"
   ]
  },
  {
   "cell_type": "markdown",
   "metadata": {},
   "source": [
    "## Binary Search"
   ]
  },
  {
   "cell_type": "raw",
   "metadata": {
    "collapsed": false
   },
   "source": [
    "0 1 2 3 4  5  6  7  8 \n",
    "2 3 5 7 10 11 13 17 19 # find 18\n",
    "getmid = (0 + 8)/2 = 4 => 10 < 18 so min = 4 + 1\n",
    "getmid = (5 + 8)/2 = 6 => 13 < 18 so min = 6 + 1\n",
    "getmid = (7 + 8)/2 = 7 => 17 < 18 so min = 7 + 1\n",
    "getmid = (8 + 8)/2 = 8 => 19 > 18 so max = 8 - 1\n",
    "max = 7 < min = 8 not found\n",
    "\n",
    "0 1 2 3 4  5  6  7  8\n",
    "2 3 5 7 10 11 13 17 # find 17\n",
    "getmid = (0 + 7)/2 = 3 => 5 < 17 so min = 3 + 1\n",
    "getmid = (4 + 7)/2 = 5 => 11 < 17 so min = 5 + 1\n",
    "getmid = (6 + 7)/2 = 6 => 13 < 17 so min = 6 + 1\n",
    "getmid = (7 + 7)/2 = 7 => 17  == 17 found\n"
   ]
  },
  {
   "cell_type": "code",
   "execution_count": 12,
   "metadata": {
    "collapsed": false
   },
   "outputs": [
    {
     "name": "stdout",
     "output_type": "stream",
     "text": [
      "0 7 3\n",
      "4 7 5\n",
      "6 7 6\n",
      "7 7 7\n",
      "7 6 6\n",
      "notfound\n"
     ]
    }
   ],
   "source": [
    "#primes = [2, 3, 5, 7, 11, 13, 17, 19, 23, 29, 31, 37, 41, 43, 47, 53, 59, 61, 67, 71, 73, 79, 83, 89, 97]\n",
    "primes = [2, 3, 5, 7, 10,11, 13, 17]\n",
    "#min 0 max 7 mid 3\n",
    "#min 3 max 7 mid 5\n",
    "#min 5 max 7 mid 6\n",
    "#min 6 max 7 mid 6\n",
    "\n",
    "\n",
    "#print (primes.index(67))\n",
    "find = 16#6\n",
    "minIn = 0\n",
    "maxIn = len(primes)-1\n",
    "\n",
    "while(True):\n",
    "    \n",
    "    midIn = (minIn + maxIn)//2\n",
    "    print (minIn,maxIn,midIn)\n",
    "    if(minIn > maxIn):\n",
    "        print (\"notfound\")\n",
    "        break\n",
    "    elif(primes[midIn] == find):\n",
    "        print (\"found %d at %d\" %(find,midIn))\n",
    "        break\n",
    "    elif (primes[midIn] > find):\n",
    "        maxIn = midIn - 1\n",
    "    elif (primes[midIn] < find):\n",
    "        minIn = midIn + 1\n",
    "    \n",
    "        \n",
    "        "
   ]
  },
  {
   "cell_type": "raw",
   "metadata": {},
   "source": [
    "8 -> 4 -> 2 -> 1 = 4 comarisons = log2(8)+1\n",
    "\n",
    "input vs number of comparions at most\n",
    "1 -> 0 + 1\n",
    "2 -> 1 + 1 comparisons\n",
    "3,4 -> 2 + 1comparisons\n",
    "5,6,7,8 -> 3 +1  comparisons\n",
    "1000,1024 -> 10 + 1 comparisons\n",
    "\n",
    "\n",
    "Complexity of running time : log2(n) for worst case"
   ]
  },
  {
   "cell_type": "markdown",
   "metadata": {
    "collapsed": true
   },
   "source": [
    "## Insertion Sort"
   ]
  },
  {
   "cell_type": "markdown",
   "metadata": {},
   "source": [
    "To understand insertion sort, first will try to put one at the end to an already sorted list."
   ]
  },
  {
   "cell_type": "code",
   "execution_count": null,
   "metadata": {
    "collapsed": false
   },
   "outputs": [],
   "source": [
    "arr = [2,3,4,6,8,9,5]\n",
    "index = range(6,-1,-1)\n",
    "\n",
    "for i in index:\n",
    "    if(arr[i-1] > arr[i]):\n",
    "        key = arr[i]\n",
    "        arr[i] = arr[i-1]\n",
    "        arr[i-1] = key\n",
    "    else:\n",
    "        break\n",
    "    print (arr)"
   ]
  },
  {
   "cell_type": "markdown",
   "metadata": {},
   "source": [
    "Now will try to do this of a completely unordered list."
   ]
  },
  {
   "cell_type": "markdown",
   "metadata": {},
   "source": [
    "<img src = \"https://s3.amazonaws.com/ka-cs-algorithms/insertion_sort1.png\">"
   ]
  },
  {
   "cell_type": "code",
   "execution_count": 87,
   "metadata": {
    "collapsed": false
   },
   "outputs": [
    {
     "name": "stdout",
     "output_type": "stream",
     "text": [
      "[5, 6, 4, 3, 2, 1, 0]\n",
      "[4, 5, 6, 3, 2, 1, 0]\n",
      "[3, 4, 5, 6, 2, 1, 0]\n",
      "[2, 3, 4, 5, 6, 1, 0]\n",
      "[1, 2, 3, 4, 5, 6, 0]\n",
      "[0, 1, 2, 3, 4, 5, 6]\n"
     ]
    }
   ],
   "source": [
    "import random\n",
    "arr = random.sample(range(10), 7)\n",
    "arr = [6,5,4,3,2,1,0]\n",
    "n = 0\n",
    "#print (arr)\n",
    "for j in range(1,7,1):\n",
    "    for i in range(j,0,-1):\n",
    "        if (arr[i-1] > arr[i]):\n",
    "            key = arr[i]\n",
    "            arr[i] = arr[i-1]\n",
    "            arr[i-1] = key\n",
    "        else:\n",
    "            break\n",
    "    print (arr)"
   ]
  },
  {
   "cell_type": "markdown",
   "metadata": {
    "collapsed": false
   },
   "source": [
    "### Now how do we analyse this algorithm ?"
   ]
  },
  {
   "cell_type": "markdown",
   "metadata": {
    "collapsed": true
   },
   "source": [
    "#### Running Time\n",
    "1. how long the algorithm takes, in terms of the size of its input.running time of the algorithm as a function of the size of its input.\n",
    "\n",
    "2. how fast this function grows with the input size. We call that the rate of growth of the running time. "
   ]
  },
  {
   "cell_type": "markdown",
   "metadata": {},
   "source": [
    "##### Depends on,\n",
    "- input itself ( if input is already sorted or reversed)\n",
    "- number of elements in the array\n",
    "- We want the minimum upper bound on the running time. the algorithm should done in before 3 minites is better than saying the algorithm should be done on 3 hours, this represents a gurentee to the user\n",
    "\n",
    "##### kinds of analysis,\n",
    "- worst case , T(n) = max time on any input of size n. This means for any other input, time should be better. This is always the case. There is only one maximum time.\n",
    "- average case, T(n) = expected time , input distribution\n",
    "- best case (bogus) , already sorted array.Cheat, any bad algoritm may be very fast for best case"
   ]
  },
  {
   "cell_type": "markdown",
   "metadata": {},
   "source": [
    "##### What is the worst case running time of Insertion Sort\n",
    "- This depends on computer\n",
    "- Big Idea = > asymptotic analysis\n",
    "        - Ignore machine depended constants\n",
    "        - look at the growth of runnning time (n --> infinity, what will happen to the algorithm)"
   ]
  },
  {
   "cell_type": "markdown",
   "metadata": {},
   "source": [
    "#### Asymptotic Analysis\n",
    "$\\theta$ notation = Drop lower order terms and ignore constants\n",
    "\n",
    "$3n^3 + 90n^2 + 3 $ = $\\theta$($n^3$)\n",
    "\n",
    "as n -- > infinity, a $n^2$ algorithm always beats $n^3$ algorithm\n",
    "For different computer being slow or fast, but the growth will be always be there for any computer. as n gets larger even the faster computer falls behind if running the $n^3$ and slower computer with $n^2$ will win at some point.\n",
    "\n",
    "<img src = \"http://calculus.seas.upenn.edu/uploads/Main/AsymptoticMonomial.png\" >\n",
    "\n",
    "\n",
    "Engineering common sense: for sufficiently larger input, if the running time is lesser for the bad algorithm, we might not care because it balances for our problem space. \n",
    "\n",
    "\n",
    "When we use big- $\\theta$ notation, we're saying that we have an asymptotically tight bound on the running time. \"Asymptotically\" because it matters for only large values of \n",
    "n\n",
    "n. \"Tight bound\" because we've nailed the running time to within a constant factor above and below."
   ]
  },
  {
   "cell_type": "markdown",
   "metadata": {},
   "source": [
    "Big O , Big theta , Big omega\n",
    "\n",
    "- Big O is the upper bound, while Omega is the lower bound. Theta requires both Big O and Omega, so that's why it's referred to as a tight bound (it must be both the upper and lower bound).\n",
    "\n",
    "- For example, an algorithm taking Omega(n log n) takes at least n log n time, but has no upper limit. An algorithm taking Theta(n log n) is far preferential since it takes at least n log n (Omega n log n) and no more than n log n (Big O n log n).\n",
    "\n",
    "\n",
    "If we take linear search,\n",
    "worst case is $c1n+c2$\n",
    "running time :\n",
    "- big $\\theta$(n)\n",
    "\n",
    "<img src = \"https://s3.amazonaws.com/ka-cs-algorithms/theta_fn.png\">\n",
    "\n",
    "once n gets large enough, running time is between, $k1.f1(n) and k2.f2(n)$\n",
    "\n",
    "When we use big-Θ notation, we're saying that we have an asymptotically tight bound on the running time. \"Asymptotically\" because it matters for only large values of \n",
    "n\n",
    "n. \"Tight bound\" because we've nailed the running time to within a constant factor above and below.\n",
    "\n",
    "\n",
    "Big O\n",
    "- It would be convenient to have a form of asymptotic notation that means \"the running time grows at most this much, but it could grow more slowly.\" We use \"big-O\" notation for just such occasions.\n",
    "\n",
    "<img src = \"https://s3.amazonaws.com/ka-cs-algorithms/O_fn.png\" >\n",
    "\n",
    "O - is like i have less than $1000 in my pocket. this is technically correct but way off from precise. \n",
    "\n",
    "\n",
    "Big $\\Omega$\n",
    "\n",
    "an algorithm takes at least a certain amount of time, without providing an upper bound.\n",
    "\n",
    "this is like I have an amount of money in my pocket, and it's at least 10 dollars. \n",
    "\n",
    "<img src = \"https://s3.amazonaws.com/ka-cs-algorithms/Omega_fn.png\">\n",
    " "
   ]
  },
  {
   "cell_type": "markdown",
   "metadata": {},
   "source": [
    "#### Insertion Sort Analysis\n",
    "worst case : Reverse Sorted\n",
    "\n",
    "T(n) = $\\sum\\limits_{j = 1}^{j = n-1}$ $\\theta$ ( j )=work done in a loop\n",
    "\n",
    "work done in each loop;\n",
    "1 + 2 + 3 + 4 + 5 + 6 \n",
    "\n",
    "is an arithmatic series = $n(n-1)/2$ = $(n^2)/2 - n/2 =  $ $\\theta$($n^2$)\n",
    "\n",
    "\n",
    "So this insertion sort is good for small n not so good for large n\n"
   ]
  },
  {
   "cell_type": "code",
   "execution_count": null,
   "metadata": {
    "collapsed": true
   },
   "outputs": [],
   "source": []
  },
  {
   "cell_type": "markdown",
   "metadata": {},
   "source": [
    "## Merge Sort "
   ]
  },
  {
   "cell_type": "code",
   "execution_count": 16,
   "metadata": {
    "collapsed": false
   },
   "outputs": [
    {
     "name": "stdout",
     "output_type": "stream",
     "text": [
      "[53, 27, 3, 92, 98, 33, 57, 79, 40, 56, 10, 87, 66, 54, 37]\n"
     ]
    }
   ],
   "source": [
    "import random\n",
    "arr = random.sample(range(100), 15)\n",
    "print (arr)\n",
    "list1 = [53, 27, 3, 92, 98, 33, 57]\n",
    "list2 = [79, 40, 56, 10, 87, 66, 54, 37]\n",
    "sorted = []\n",
    "while(len(list1)!=0 and len(list2) != 0):\n",
    "    if(min(list1) < min(list2)):\n",
    "        sorted = list1.unshift\n",
    "    if(min(list1) > min(list2)):\n",
    "        sorted = list2.unshift\n",
    "    sorted.append(min(min(list1),min(list2)))\n",
    "    \n",
    "    \n",
    "\n",
    "\n",
    "\n",
    "while(list)\n",
    "list1[0]"
   ]
  },
  {
   "cell_type": "code",
   "execution_count": 19,
   "metadata": {
    "collapsed": false
   },
   "outputs": [
    {
     "data": {
      "text/plain": [
       "53"
      ]
     },
     "execution_count": 19,
     "metadata": {},
     "output_type": "execute_result"
    }
   ],
   "source": [
    "list1 = [53]\n",
    "min(list1)"
   ]
  },
  {
   "cell_type": "markdown",
   "metadata": {
    "collapsed": true
   },
   "source": [
    "## All about sorting"
   ]
  },
  {
   "cell_type": "code",
   "execution_count": 60,
   "metadata": {
    "collapsed": false
   },
   "outputs": [
    {
     "name": "stdout",
     "output_type": "stream",
     "text": [
      "[17, 42, 13, 47, 22, 36, 20, 36, 29, 19, 36, 18, 43, 19, 45, 37, 20, 29, 21, 20, 42, 22, 49, 41, 36, 47, 30, 39, 19, 27, 18, 13, 32, 25, 45, 46, 37, 17, 30, 14]\n"
     ]
    }
   ],
   "source": [
    "import random\n",
    "array = [random.randint(12,50) for i in range(40)]\n",
    "print (array)\n",
    "\n",
    "#array = [10,9,8,7,6,5,4,3,2,1]"
   ]
  },
  {
   "cell_type": "code",
   "execution_count": 24,
   "metadata": {
    "collapsed": false
   },
   "outputs": [
    {
     "name": "stdout",
     "output_type": "stream",
     "text": [
      "[32, 16, 32, 36]\n"
     ]
    }
   ],
   "source": [
    "# development of bubble sort : first pass thourhg the list bubbles up the max element to the rightb  \n",
    "def bubbleSort(array):\n",
    "    for i in range(len(array)-1):\n",
    "        if (array[i+1] < array[i]):\n",
    "            temp = array[i + 1]\n",
    "            array[i + 1] = array[i]\n",
    "            array[i] = temp\n",
    "    return array\n",
    "\n",
    "print (bubbleSort(array))"
   ]
  },
  {
   "cell_type": "code",
   "execution_count": 58,
   "metadata": {
    "collapsed": false
   },
   "outputs": [
    {
     "name": "stdout",
     "output_type": "stream",
     "text": [
      "780\n",
      "[12, 12, 13, 15, 16, 17, 18, 19, 19, 20, 20, 20, 20, 21, 22, 25, 25, 27, 31, 31, 31, 32, 34, 36, 37, 38, 39, 39, 40, 41, 43, 44, 46, 47, 47, 48, 48, 48, 49, 49]\n"
     ]
    }
   ],
   "source": [
    "# development of bubble sort : we have to do this for the every rest of the items in the list , smaller than max\n",
    "\n",
    "def bubbleSort(array):\n",
    "    count = 0\n",
    "    for j in range(len(array) - 1):\n",
    "        for i in range(len(array)-1-j): # -j here is an optimization to elliminate repeated vistis to sorted cells.\n",
    "            count = count + 1\n",
    "            if (array[i+1] < array[i]):\n",
    "                \n",
    "                #temp = array[i + 1]\n",
    "                #array[i + 1] = array[i]\n",
    "                #array[i] = temp\n",
    "                array[i],array[i+1] = array[i+1],array[i] # more pythonic way of doing stuff without using temp\n",
    "                \n",
    "    print (count)\n",
    "    return array\n",
    "\n",
    "print (bubbleSort(array))\n",
    "\n",
    "# once a pass though the list has been made by first iteration, second iteration has to sort only n - 1 items. becuuse the max\n",
    "# item is already in place. so"
   ]
  },
  {
   "cell_type": "markdown",
   "metadata": {},
   "source": [
    "## Insertion Sort"
   ]
  },
  {
   "cell_type": "code",
   "execution_count": 61,
   "metadata": {
    "collapsed": false
   },
   "outputs": [
    {
     "name": "stdout",
     "output_type": "stream",
     "text": [
      "[17, 42, 13, 47, 22, 36, 20, 36, 29, 19, 36, 18, 43, 19, 45, 37, 20, 29, 21, 20, 42, 22, 49, 41, 36, 47, 30, 39, 19, 27, 18, 13, 32, 25, 45, 46, 37, 17, 30, 14]\n"
     ]
    }
   ],
   "source": [
    "items = array\n",
    "def insertion_sort(items):\n",
    "    \"\"\" Implementation of insertion sort \"\"\"\n",
    "    for i in range(1, len(items)):\n",
    "        j = i\n",
    "        while j > 0 and items[j] < items[j-1]:\n",
    "            items[j], items[j-1] = items[j-1], items[j]\n",
    "            j -= 1\n",
    "            \n",
    "print (array)"
   ]
  },
  {
   "cell_type": "markdown",
   "metadata": {},
   "source": [
    "## Merge Sort"
   ]
  },
  {
   "cell_type": "code",
   "execution_count": 73,
   "metadata": {
    "collapsed": false
   },
   "outputs": [
    {
     "name": "stdout",
     "output_type": "stream",
     "text": [
      "[5, 4, 3, 2, 1]\n"
     ]
    }
   ],
   "source": [
    "   "
   ]
  },
  {
   "cell_type": "code",
   "execution_count": 70,
   "metadata": {
    "collapsed": false
   },
   "outputs": [
    {
     "name": "stdout",
     "output_type": "stream",
     "text": [
      "Before:  [6, 1, 4, 3, 2]\n",
      "After :  [1, 2, 3, 4, 6]\n"
     ]
    }
   ],
   "source": [
    "\n",
    "def merge_sort(items):\n",
    "    \"\"\" Implementation of mergesort \"\"\"\n",
    "    if len(items) > 1:\n",
    "\n",
    "        mid = len(items) // 2        # Determine the midpoint and split\n",
    "        left = items[0:mid]\n",
    "        right = items[mid:]\n",
    "\n",
    "        merge_sort(left)            # Sort left list in-place\n",
    "        merge_sort(right)           # Sort right list in-place\n",
    "\n",
    "        l, r = 0, 0\n",
    "        for i in range(len(items)):     # Merging the left and right list\n",
    "\n",
    "            lval = left[l] if l < len(left) else None\n",
    "            rval = right[r] if r < len(right) else None\n",
    "\n",
    "            if (lval and rval and lval < rval) or rval is None:\n",
    "                items[i] = lval\n",
    "                l += 1\n",
    "            elif (lval and rval and lval >= rval) or lval is None:\n",
    "                items[i] = rval\n",
    "                r += 1\n",
    "            else:\n",
    "                raise Exception('Could not merge, sub arrays sizes do not match the main array')\n",
    "                \n",
    "\n",
    "\n",
    "import random\n",
    "\n",
    "random_items = [random.randint(1, 10) for c in range(5)]\n",
    "\n",
    "print ('Before: ', random_items)\n",
    "merge_sort(random_items)\n",
    "print ('After : ', random_items)"
   ]
  },
  {
   "cell_type": "raw",
   "metadata": {},
   "source": [
    "[6, 1, 4, 3, 2]\n",
    "[6,1] [4,3,2]\n",
    "[6] [1] [4,3] [2]\n",
    "        [4][3]\n",
    "        \n",
    "        \n",
    "[2,4,5] [3,6,7]\n",
    "[2] => [4,5][3,6,7]\n",
    "[2,3] = >[4,5][6,7]\n",
    "[2,3,4] = > [5][6,7]\n",
    "...\n",
    "\n",
    "\n"
   ]
  },
  {
   "cell_type": "code",
   "execution_count": 77,
   "metadata": {
    "collapsed": false
   },
   "outputs": [
    {
     "name": "stdout",
     "output_type": "stream",
     "text": [
      "[5, 4]\n",
      "[5]\n",
      "[4]\n"
     ]
    },
    {
     "ename": "UnboundLocalError",
     "evalue": "local variable 'l' referenced before assignment",
     "output_type": "error",
     "traceback": [
      "\u001b[0;31m---------------------------------------------------------------------------\u001b[0m",
      "\u001b[0;31mUnboundLocalError\u001b[0m                         Traceback (most recent call last)",
      "\u001b[0;32m<ipython-input-77-432a2c749d57>\u001b[0m in \u001b[0;36m<module>\u001b[0;34m()\u001b[0m\n\u001b[1;32m     31\u001b[0m \u001b[0;34m\u001b[0m\u001b[0m\n\u001b[1;32m     32\u001b[0m \u001b[0;34m\u001b[0m\u001b[0m\n\u001b[0;32m---> 33\u001b[0;31m \u001b[0mmerge\u001b[0m\u001b[0;34m(\u001b[0m\u001b[0marray\u001b[0m\u001b[0;34m)\u001b[0m\u001b[0;34m\u001b[0m\u001b[0m\n\u001b[0m",
      "\u001b[0;32m<ipython-input-77-432a2c749d57>\u001b[0m in \u001b[0;36mmerge\u001b[0;34m(array)\u001b[0m\n\u001b[1;32m      9\u001b[0m         \u001b[0mmerge\u001b[0m\u001b[0;34m(\u001b[0m\u001b[0mleft\u001b[0m\u001b[0;34m)\u001b[0m\u001b[0;34m\u001b[0m\u001b[0m\n\u001b[1;32m     10\u001b[0m         \u001b[0mmerge\u001b[0m\u001b[0;34m(\u001b[0m\u001b[0mright\u001b[0m\u001b[0;34m)\u001b[0m\u001b[0;34m\u001b[0m\u001b[0m\n\u001b[0;32m---> 11\u001b[0;31m         \u001b[0ml\u001b[0m\u001b[0;34m,\u001b[0m\u001b[0mr\u001b[0m \u001b[0;34m==\u001b[0m \u001b[0;36m0\u001b[0m\u001b[0;34m,\u001b[0m\u001b[0;36m0\u001b[0m\u001b[0;34m\u001b[0m\u001b[0m\n\u001b[0m\u001b[1;32m     12\u001b[0m \u001b[0;34m\u001b[0m\u001b[0m\n\u001b[1;32m     13\u001b[0m         \u001b[0;32mfor\u001b[0m \u001b[0mi\u001b[0m \u001b[0;32min\u001b[0m \u001b[0mrange\u001b[0m\u001b[0;34m(\u001b[0m\u001b[0mlen\u001b[0m\u001b[0;34m(\u001b[0m\u001b[0marray\u001b[0m\u001b[0;34m)\u001b[0m\u001b[0;34m)\u001b[0m\u001b[0;34m:\u001b[0m\u001b[0;34m\u001b[0m\u001b[0m\n",
      "\u001b[0;31mUnboundLocalError\u001b[0m: local variable 'l' referenced before assignment"
     ]
    }
   ],
   "source": [
    "\n",
    "array = [5,4]\n",
    "def merge(array):\n",
    "    print (array)\n",
    "    if len(array) > 1:\n",
    "        mid = len(array)//2\n",
    "        left = array[0:mid]\n",
    "        right = array[mid:]\n",
    "        merge(left)\n",
    "        merge(right)\n",
    "        l,r == 0,0\n",
    "        \n",
    "        for i in range(len(array)):\n",
    "            lval = left[l] if l < len(left) else None\n",
    "            rval = right[r] if r < len(right) else None\n",
    "            \n",
    "            if(lval and rval and lval < rval) or rval is None :\n",
    "                array[i] = lval\n",
    "                l+=1\n",
    "            elif(lval and rval and lval >= rval) or lval is None :\n",
    "                array[i] = rval\n",
    "                r+=1\n",
    "        \n",
    "            else:\n",
    "                raise Exception(\"error\")\n",
    "        \n",
    "            \n",
    "        \n",
    "        \n",
    "        \n",
    "        \n",
    "    \n",
    "merge(array) "
   ]
  },
  {
   "cell_type": "code",
   "execution_count": null,
   "metadata": {
    "collapsed": true
   },
   "outputs": [],
   "source": []
  }
 ],
 "metadata": {
  "kernelspec": {
   "display_name": "Python 3",
   "language": "python",
   "name": "python3"
  },
  "language_info": {
   "codemirror_mode": {
    "name": "ipython",
    "version": 3
   },
   "file_extension": ".py",
   "mimetype": "text/x-python",
   "name": "python",
   "nbconvert_exporter": "python",
   "pygments_lexer": "ipython3",
   "version": "3.3.5"
  }
 },
 "nbformat": 4,
 "nbformat_minor": 0
}
