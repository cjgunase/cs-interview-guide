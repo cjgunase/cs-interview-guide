{
 "cells": [
  {
   "cell_type": "markdown",
   "metadata": {},
   "source": [
    "## Analysis of Algorithms : \n"
   ]
  },
  {
   "cell_type": "markdown",
   "metadata": {},
   "source": [
    "# Linear Search"
   ]
  },
  {
   "cell_type": "code",
   "execution_count": 113,
   "metadata": {
    "collapsed": false
   },
   "outputs": [
    {
     "name": "stdout",
     "output_type": "stream",
     "text": [
      "[1, 4, 8, 2, 6, 3, 0]\n",
      "found 4 at 1\n"
     ]
    }
   ],
   "source": [
    "import random\n",
    "arr = random.sample(range(10), 7)\n",
    "#arr = [8, 0, 5, 1, 6, 9, 4]\n",
    "print (arr)\n",
    "find = 4\n",
    "for i in range(1,len(arr),1):\n",
    "    if (arr[i] == find):\n",
    "        print (\"found %d at %d\" %(find,i))\n",
    "        break\n",
    "    else:\n",
    "        if (i == len(arr)-1 and arr[i] != find):\n",
    "            print (\"did not find %d\" %find)\n",
    "        "
   ]
  },
  {
   "cell_type": "markdown",
   "metadata": {},
   "source": [
    "Complexity of the Linear search:\n",
    "\n",
    "worst case : $\\theta$(n)\n",
    "\n",
    "http://www.geeksforgeeks.org/analysis-of-algorithms-set-2-asymptotic-analysis/"
   ]
  },
  {
   "cell_type": "markdown",
   "metadata": {},
   "source": [
    "To understand insertion sort, first will try to put one at the end to an already sorted list."
   ]
  },
  {
   "cell_type": "code",
   "execution_count": 58,
   "metadata": {
    "collapsed": false
   },
   "outputs": [
    {
     "name": "stdout",
     "output_type": "stream",
     "text": [
      "[2, 3, 4, 6, 8, 5, 9]\n",
      "[2, 3, 4, 6, 5, 8, 9]\n",
      "[2, 3, 4, 5, 6, 8, 9]\n"
     ]
    }
   ],
   "source": [
    "arr = [2,3,4,6,8,9,5]\n",
    "index = range(6,-1,-1)\n",
    "\n",
    "for i in index:\n",
    "    if(arr[i-1] > arr[i]):\n",
    "        key = arr[i]\n",
    "        arr[i] = arr[i-1]\n",
    "        arr[i-1] = key\n",
    "    else:\n",
    "        break\n",
    "    print (arr)"
   ]
  },
  {
   "cell_type": "markdown",
   "metadata": {},
   "source": [
    "Now will try to do this of a completely unordered list."
   ]
  },
  {
   "cell_type": "markdown",
   "metadata": {},
   "source": [
    "<img src = \"https://s3.amazonaws.com/ka-cs-algorithms/insertion_sort1.png\">"
   ]
  },
  {
   "cell_type": "code",
   "execution_count": 87,
   "metadata": {
    "collapsed": false
   },
   "outputs": [
    {
     "name": "stdout",
     "output_type": "stream",
     "text": [
      "[5, 6, 4, 3, 2, 1, 0]\n",
      "[4, 5, 6, 3, 2, 1, 0]\n",
      "[3, 4, 5, 6, 2, 1, 0]\n",
      "[2, 3, 4, 5, 6, 1, 0]\n",
      "[1, 2, 3, 4, 5, 6, 0]\n",
      "[0, 1, 2, 3, 4, 5, 6]\n"
     ]
    }
   ],
   "source": [
    "import random\n",
    "arr = random.sample(range(10), 7)\n",
    "arr = [6,5,4,3,2,1,0]\n",
    "n = 0\n",
    "#print (arr)\n",
    "for j in range(1,7,1):\n",
    "    for i in range(j,0,-1):\n",
    "        if (arr[i-1] > arr[i]):\n",
    "            key = arr[i]\n",
    "            arr[i] = arr[i-1]\n",
    "            arr[i-1] = key\n",
    "        else:\n",
    "            break\n",
    "    print (arr)"
   ]
  },
  {
   "cell_type": "markdown",
   "metadata": {
    "collapsed": false
   },
   "source": [
    "### Now how do we analyse this algorithm ?"
   ]
  },
  {
   "cell_type": "markdown",
   "metadata": {
    "collapsed": true
   },
   "source": [
    "#### Running Time"
   ]
  },
  {
   "cell_type": "markdown",
   "metadata": {},
   "source": [
    "##### Depends on,\n",
    "- input itself ( if input is already sorted or reversed)\n",
    "- number of elements in the array\n",
    "- We want the minimum upper bound on the running time. the algorithm should done in before 3 minites is better than saying the algorithm should be done on 3 hours, this represents a gurentee to the user\n",
    "\n",
    "##### kinds of analysis,\n",
    "- worst case , T(n) = max time on any input of size n. This means for any other input, time should be better. This is always the case. There is only one maximum time.\n",
    "- average case, T(n) = expected time , input distribution\n",
    "- best case (bogus) , already sorted array.Cheat, any bad algoritm may be very fast for best case"
   ]
  },
  {
   "cell_type": "markdown",
   "metadata": {},
   "source": [
    "##### What is the worst case running time of Insertion Sort\n",
    "- This depends on computer\n",
    "- Big Idea = > asymptotic analysis\n",
    "        - Ignore machine depended constants\n",
    "        - look at the growth of runnning time (n --> infinity, what will happen to the algorithm)"
   ]
  },
  {
   "cell_type": "markdown",
   "metadata": {},
   "source": [
    "#### Asymptotic Analysis\n",
    "$\\theta$ notation = Drop lower order terms and ignore constants\n",
    "\n",
    "$3n^3 + 90n^2 + 3 $ = $\\theta$($n^3$)\n",
    "\n",
    "as n -- > infinity, a $n^2$ algorithm always beats $n^3$ algorithm\n",
    "For different computer being slow or fast, but the growth will be always be there for any computer. as n gets larger even the faster computer falls behind if running the $n^3$ and slower computer with $n^2$ will win at some point.\n",
    "\n",
    "<img src = \"http://calculus.seas.upenn.edu/uploads/Main/AsymptoticMonomial.png\" >\n",
    "\n",
    "\n",
    "Engineering common sense: for sufficiently larger input, if the running time is lesser for the bad algorithm, we might not care because it balances for our problem space. "
   ]
  },
  {
   "cell_type": "markdown",
   "metadata": {},
   "source": [
    "#### Insertion Sort Analysis\n",
    "worst case : Reverse Sorted\n",
    "\n",
    "T(n) = $\\sum\\limits_{j = 1}^{j = n-1}$ $\\theta$ ( j )=work done in a loop\n",
    "\n",
    "work done in each loop;\n",
    "1 + 2 + 3 + 4 + 5 + 6 \n",
    "\n",
    "is an arithmatic series = $n(n-1)/2$ = $(n^2)/2 - n/2 =  $ $\\theta$($n^2$)\n",
    "\n",
    "\n",
    "So this insertion sort is good for small n not so good for large n\n"
   ]
  },
  {
   "cell_type": "markdown",
   "metadata": {},
   "source": [
    "## Merge Sort "
   ]
  },
  {
   "cell_type": "code",
   "execution_count": null,
   "metadata": {
    "collapsed": true
   },
   "outputs": [],
   "source": []
  }
 ],
 "metadata": {
  "kernelspec": {
   "display_name": "Python 3",
   "language": "python",
   "name": "python3"
  },
  "language_info": {
   "codemirror_mode": {
    "name": "ipython",
    "version": 3
   },
   "file_extension": ".py",
   "mimetype": "text/x-python",
   "name": "python",
   "nbconvert_exporter": "python",
   "pygments_lexer": "ipython3",
   "version": "3.3.5"
  }
 },
 "nbformat": 4,
 "nbformat_minor": 0
}
